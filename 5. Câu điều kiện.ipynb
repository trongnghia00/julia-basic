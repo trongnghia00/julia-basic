{
 "cells": [
  {
   "cell_type": "markdown",
   "id": "f7811e28-dee3-4ee5-86e8-078337c632bc",
   "metadata": {},
   "source": [
    "### Câu lệnh if"
   ]
  },
  {
   "cell_type": "code",
   "execution_count": 4,
   "id": "fbd69a82-09cd-4929-820b-2419d5aa39d2",
   "metadata": {},
   "outputs": [
    {
     "name": "stdout",
     "output_type": "stream",
     "text": [
      "Trời lạnh !\n"
     ]
    }
   ],
   "source": [
    "nhiet_do = 10\n",
    "if nhiet_do >= 37\n",
    "    println(\"Trời rất nóng, nên ở trong nhà !\")\n",
    "elseif nhiet_do >= 30\n",
    "    println(\"Trời nóng, nhớ uống đủ nước !\")\n",
    "elseif nhiet_do >= 20\n",
    "    println(\"Thời tiết dễ chịu !\")\n",
    "else\n",
    "    println(\"Trời lạnh !\")\n",
    "end"
   ]
  },
  {
   "cell_type": "markdown",
   "id": "85bc7518-ea24-4dc1-a0f0-a90021f46241",
   "metadata": {},
   "source": [
    "### Toán tử ba ngôi"
   ]
  },
  {
   "cell_type": "code",
   "execution_count": 6,
   "id": "de837371-cd92-4c51-9da9-245f42352e72",
   "metadata": {},
   "outputs": [
    {
     "name": "stdout",
     "output_type": "stream",
     "text": [
      "Số lớn nhất: 20\n"
     ]
    }
   ],
   "source": [
    "a = 12\n",
    "b = 20\n",
    "lon_nhat = (a > b) ? a : b\n",
    "println(\"Số lớn nhất: \", lon_nhat)"
   ]
  },
  {
   "cell_type": "markdown",
   "id": "04b25814-4d8f-424c-9087-ed7f6766d402",
   "metadata": {},
   "source": [
    "### Short-circuit"
   ]
  },
  {
   "cell_type": "code",
   "execution_count": 7,
   "id": "2dddd1de-1328-430c-95cd-f737a300fe8e",
   "metadata": {},
   "outputs": [
    {
     "data": {
      "text/plain": [
       "false"
      ]
     },
     "execution_count": 7,
     "metadata": {},
     "output_type": "execute_result"
    }
   ],
   "source": [
    "false && println(\"Dòng này không được in ra\")"
   ]
  },
  {
   "cell_type": "code",
   "execution_count": 8,
   "id": "72259374-4d12-4df8-8832-372d42386f33",
   "metadata": {},
   "outputs": [
    {
     "data": {
      "text/plain": [
       "true"
      ]
     },
     "execution_count": 8,
     "metadata": {},
     "output_type": "execute_result"
    }
   ],
   "source": [
    "true || println(\"Dòng này không được in ra\")"
   ]
  },
  {
   "cell_type": "code",
   "execution_count": 11,
   "id": "51b4251e-12d5-4d23-ae91-a196e3f2fcdc",
   "metadata": {},
   "outputs": [
    {
     "ename": "LoadError",
     "evalue": "x không thể âm.",
     "output_type": "error",
     "traceback": [
      "x không thể âm.",
      "",
      "Stacktrace:",
      " [1] \u001b[0m\u001b[1merror\u001b[22m\u001b[0m\u001b[1m(\u001b[22m\u001b[90ms\u001b[39m::\u001b[0mString\u001b[0m\u001b[1m)\u001b[22m",
      "\u001b[90m   @\u001b[39m \u001b[90mBase\u001b[39m \u001b[90m.\\\u001b[39m\u001b[90m\u001b[4merror.jl:35\u001b[24m\u001b[39m",
      " [2] top-level scope",
      "\u001b[90m   @\u001b[39m \u001b[90m\u001b[4mIn[11]:2\u001b[24m\u001b[39m"
     ]
    }
   ],
   "source": [
    "x = -5\n",
    "(x > 0) || error(\"x không thể âm.\")"
   ]
  },
  {
   "cell_type": "code",
   "execution_count": 13,
   "id": "4c49c8c4-d872-40f5-851f-01f73feb82d8",
   "metadata": {},
   "outputs": [
    {
     "data": {
      "text/plain": [
       "false"
      ]
     },
     "execution_count": 13,
     "metadata": {},
     "output_type": "execute_result"
    }
   ],
   "source": [
    "x = -5\n",
    "(x > 0) && error(\"x không được lớn hơn không.\")"
   ]
  },
  {
   "cell_type": "code",
   "execution_count": null,
   "id": "e41bdc17-5068-427a-a548-855fc3433fd4",
   "metadata": {},
   "outputs": [],
   "source": []
  }
 ],
 "metadata": {
  "kernelspec": {
   "display_name": "Julia 1.11.6",
   "language": "julia",
   "name": "julia-1.11"
  },
  "language_info": {
   "file_extension": ".jl",
   "mimetype": "application/julia",
   "name": "julia",
   "version": "1.11.6"
  }
 },
 "nbformat": 4,
 "nbformat_minor": 5
}
