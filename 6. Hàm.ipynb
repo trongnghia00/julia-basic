{
 "cells": [
  {
   "cell_type": "markdown",
   "id": "6aaee4a1-64da-42af-ad53-fd5768fcb265",
   "metadata": {},
   "source": [
    "### Định nghĩa hàm"
   ]
  },
  {
   "cell_type": "code",
   "execution_count": 1,
   "id": "5c2dc0e5-49ca-488b-b61f-6e2098ea97e5",
   "metadata": {},
   "outputs": [
    {
     "data": {
      "text/plain": [
       "chao (generic function with 1 method)"
      ]
     },
     "execution_count": 1,
     "metadata": {},
     "output_type": "execute_result"
    }
   ],
   "source": [
    "function chao(name)\n",
    "    println(\"xin chào $name, chúc bạn ngày tốt lành !\")\n",
    "end"
   ]
  },
  {
   "cell_type": "code",
   "execution_count": 2,
   "id": "2bc3cc31-6416-4f55-bc17-177e131f6f97",
   "metadata": {},
   "outputs": [
    {
     "name": "stdout",
     "output_type": "stream",
     "text": [
      "xin chào Nghĩa, chúc bạn ngày tốt lành !\n"
     ]
    }
   ],
   "source": [
    "chao(\"Nghĩa\")"
   ]
  },
  {
   "cell_type": "code",
   "execution_count": 3,
   "id": "50229e0e-cc3f-4569-aaae-76e2287823ee",
   "metadata": {},
   "outputs": [
    {
     "data": {
      "text/plain": [
       "chao2 (generic function with 1 method)"
      ]
     },
     "execution_count": 3,
     "metadata": {},
     "output_type": "execute_result"
    }
   ],
   "source": [
    "chao2(name) = println(\"Xin chào $name, rất vui được gặp bạn !\")"
   ]
  },
  {
   "cell_type": "code",
   "execution_count": 4,
   "id": "3a960cfd-b172-4c4b-ae14-16342f80a0b1",
   "metadata": {},
   "outputs": [
    {
     "name": "stdout",
     "output_type": "stream",
     "text": [
      "Xin chào Trọng, rất vui được gặp bạn !\n"
     ]
    }
   ],
   "source": [
    "chao2(\"Trọng\")"
   ]
  },
  {
   "cell_type": "code",
   "execution_count": 5,
   "id": "0a9327a4-00f0-4252-9e4e-bfd3f8a39c45",
   "metadata": {},
   "outputs": [
    {
     "data": {
      "text/plain": [
       "#1 (generic function with 1 method)"
      ]
     },
     "execution_count": 5,
     "metadata": {},
     "output_type": "execute_result"
    }
   ],
   "source": [
    "chao3 = name -> println(\"Chào bạn $name !\")"
   ]
  },
  {
   "cell_type": "code",
   "execution_count": 6,
   "id": "9a3da7ff-2782-4ce2-8c09-793841d5f52d",
   "metadata": {},
   "outputs": [
    {
     "name": "stdout",
     "output_type": "stream",
     "text": [
      "Chào bạn Nguyên !\n"
     ]
    }
   ],
   "source": [
    "chao3(\"Nguyên\")"
   ]
  },
  {
   "cell_type": "code",
   "execution_count": 7,
   "id": "d7cd0b90-3fd0-4f45-8ba4-ded9ead21320",
   "metadata": {},
   "outputs": [
    {
     "data": {
      "text/plain": [
       "tong (generic function with 1 method)"
      ]
     },
     "execution_count": 7,
     "metadata": {},
     "output_type": "execute_result"
    }
   ],
   "source": [
    "function tong(a, b)\n",
    "    return a + b\n",
    "end"
   ]
  },
  {
   "cell_type": "code",
   "execution_count": 8,
   "id": "835f1a59-62fc-4034-808c-e955d6644d49",
   "metadata": {},
   "outputs": [
    {
     "data": {
      "text/plain": [
       "7"
      ]
     },
     "execution_count": 8,
     "metadata": {},
     "output_type": "execute_result"
    }
   ],
   "source": [
    "kq = tong(3, 4)"
   ]
  },
  {
   "cell_type": "code",
   "execution_count": 9,
   "id": "a75f832f-542d-45b1-9f91-34eb449188f2",
   "metadata": {},
   "outputs": [
    {
     "data": {
      "text/plain": [
       "hieu (generic function with 1 method)"
      ]
     },
     "execution_count": 9,
     "metadata": {},
     "output_type": "execute_result"
    }
   ],
   "source": [
    "function hieu(a, b)\n",
    "    a - b\n",
    "end"
   ]
  },
  {
   "cell_type": "code",
   "execution_count": 10,
   "id": "bcbf01a9-501c-4558-a9c8-dcbe3f7467db",
   "metadata": {},
   "outputs": [
    {
     "data": {
      "text/plain": [
       "1"
      ]
     },
     "execution_count": 10,
     "metadata": {},
     "output_type": "execute_result"
    }
   ],
   "source": [
    "kq = hieu(4,3)"
   ]
  },
  {
   "cell_type": "markdown",
   "id": "608450bd-f295-4193-a36f-61d7bc7c8c7c",
   "metadata": {},
   "source": [
    "### Duck Typing"
   ]
  },
  {
   "cell_type": "code",
   "execution_count": 11,
   "id": "0660741e-1e0d-4a30-a17f-cb1f05798c81",
   "metadata": {},
   "outputs": [
    {
     "name": "stdout",
     "output_type": "stream",
     "text": [
      "xin chào 1234, chúc bạn ngày tốt lành !\n"
     ]
    }
   ],
   "source": [
    "chao(1234)"
   ]
  },
  {
   "cell_type": "code",
   "execution_count": 12,
   "id": "929a5800-3351-4578-bac4-45a080b6ded2",
   "metadata": {},
   "outputs": [
    {
     "data": {
      "text/plain": [
       "binhphuong (generic function with 1 method)"
      ]
     },
     "execution_count": 12,
     "metadata": {},
     "output_type": "execute_result"
    }
   ],
   "source": [
    "binhphuong(x) = x ^ 2"
   ]
  },
  {
   "cell_type": "code",
   "execution_count": 13,
   "id": "425d8e06-114f-4a89-b34b-b14d7ea71a7a",
   "metadata": {},
   "outputs": [
    {
     "data": {
      "text/plain": [
       "9"
      ]
     },
     "execution_count": 13,
     "metadata": {},
     "output_type": "execute_result"
    }
   ],
   "source": [
    "binhphuong(3)"
   ]
  },
  {
   "cell_type": "code",
   "execution_count": 14,
   "id": "e8c0e6ed-445b-40e4-8ac4-279deb392624",
   "metadata": {},
   "outputs": [
    {
     "data": {
      "text/plain": [
       "\"NghĩaNghĩa\""
      ]
     },
     "execution_count": 14,
     "metadata": {},
     "output_type": "execute_result"
    }
   ],
   "source": [
    "binhphuong(\"Nghĩa\")"
   ]
  },
  {
   "cell_type": "code",
   "execution_count": 15,
   "id": "066f5a84-7ff9-47e8-b11d-07fc4c03861d",
   "metadata": {},
   "outputs": [
    {
     "ename": "LoadError",
     "evalue": "MethodError: no method matching ^(::Vector{Int64}, ::Int64)\nThe function `^` exists, but no method is defined for this combination of argument types.\n\n\u001b[0mClosest candidates are:\n\u001b[0m  ^(\u001b[91m::Regex\u001b[39m, ::Integer)\n\u001b[0m\u001b[90m   @\u001b[39m \u001b[90mBase\u001b[39m \u001b[90m\u001b[4mregex.jl:901\u001b[24m\u001b[39m\n\u001b[0m  ^(\u001b[91m::Missing\u001b[39m, ::Integer)\n\u001b[0m\u001b[90m   @\u001b[39m \u001b[90mBase\u001b[39m \u001b[90m\u001b[4mmissing.jl:155\u001b[24m\u001b[39m\n\u001b[0m  ^(\u001b[91m::Missing\u001b[39m, ::Number)\n\u001b[0m\u001b[90m   @\u001b[39m \u001b[90mBase\u001b[39m \u001b[90m\u001b[4mmissing.jl:123\u001b[24m\u001b[39m\n\u001b[0m  ...\n",
     "output_type": "error",
     "traceback": [
      "MethodError: no method matching ^(::Vector{Int64}, ::Int64)\nThe function `^` exists, but no method is defined for this combination of argument types.\n\n\u001b[0mClosest candidates are:\n\u001b[0m  ^(\u001b[91m::Regex\u001b[39m, ::Integer)\n\u001b[0m\u001b[90m   @\u001b[39m \u001b[90mBase\u001b[39m \u001b[90m\u001b[4mregex.jl:901\u001b[24m\u001b[39m\n\u001b[0m  ^(\u001b[91m::Missing\u001b[39m, ::Integer)\n\u001b[0m\u001b[90m   @\u001b[39m \u001b[90mBase\u001b[39m \u001b[90m\u001b[4mmissing.jl:155\u001b[24m\u001b[39m\n\u001b[0m  ^(\u001b[91m::Missing\u001b[39m, ::Number)\n\u001b[0m\u001b[90m   @\u001b[39m \u001b[90mBase\u001b[39m \u001b[90m\u001b[4mmissing.jl:123\u001b[24m\u001b[39m\n\u001b[0m  ...\n",
      "",
      "Stacktrace:",
      " [1] \u001b[0m\u001b[1mliteral_pow\u001b[22m",
      "\u001b[90m   @\u001b[39m \u001b[90m.\\\u001b[39m\u001b[90m\u001b[4mintfuncs.jl:389\u001b[24m\u001b[39m\u001b[90m [inlined]\u001b[39m",
      " [2] \u001b[0m\u001b[1mbinhphuong\u001b[22m\u001b[0m\u001b[1m(\u001b[22m\u001b[90mx\u001b[39m::\u001b[0mVector\u001b[90m{Int64}\u001b[39m\u001b[0m\u001b[1m)\u001b[22m",
      "\u001b[90m   @\u001b[39m \u001b[35mMain\u001b[39m \u001b[90m.\\\u001b[39m\u001b[90m\u001b[4mIn[12]:1\u001b[24m\u001b[39m",
      " [3] top-level scope",
      "\u001b[90m   @\u001b[39m \u001b[90m\u001b[4mIn[15]:1\u001b[24m\u001b[39m"
     ]
    }
   ],
   "source": [
    "binhphuong([1, 2, 3])"
   ]
  },
  {
   "cell_type": "markdown",
   "id": "7f56b83a-4b1e-473b-9588-6edf461077c7",
   "metadata": {},
   "source": [
    "### Mutation và non-mutating"
   ]
  },
  {
   "cell_type": "code",
   "execution_count": 16,
   "id": "79283259-eae8-4158-a6c4-7461b14ebf84",
   "metadata": {},
   "outputs": [
    {
     "data": {
      "text/plain": [
       "3-element Vector{Int64}:\n",
       " 3\n",
       " 1\n",
       " 2"
      ]
     },
     "execution_count": 16,
     "metadata": {},
     "output_type": "execute_result"
    }
   ],
   "source": [
    "v = [3, 1, 2]"
   ]
  },
  {
   "cell_type": "code",
   "execution_count": 17,
   "id": "4b36e813-b257-499c-ad59-fa7f59ef82b6",
   "metadata": {},
   "outputs": [
    {
     "data": {
      "text/plain": [
       "3-element Vector{Int64}:\n",
       " 1\n",
       " 2\n",
       " 3"
      ]
     },
     "execution_count": 17,
     "metadata": {},
     "output_type": "execute_result"
    }
   ],
   "source": [
    "sort(v)"
   ]
  },
  {
   "cell_type": "code",
   "execution_count": 18,
   "id": "efc9ad4b-83e2-4aac-bfdd-14063a275bda",
   "metadata": {},
   "outputs": [
    {
     "data": {
      "text/plain": [
       "3-element Vector{Int64}:\n",
       " 3\n",
       " 1\n",
       " 2"
      ]
     },
     "execution_count": 18,
     "metadata": {},
     "output_type": "execute_result"
    }
   ],
   "source": [
    "v"
   ]
  },
  {
   "cell_type": "code",
   "execution_count": 19,
   "id": "22282922-ec33-4fc7-b166-b55a20b49909",
   "metadata": {},
   "outputs": [
    {
     "data": {
      "text/plain": [
       "3-element Vector{Int64}:\n",
       " 1\n",
       " 2\n",
       " 3"
      ]
     },
     "execution_count": 19,
     "metadata": {},
     "output_type": "execute_result"
    }
   ],
   "source": [
    "sort!(v)"
   ]
  },
  {
   "cell_type": "code",
   "execution_count": 20,
   "id": "f6c25f8a-c701-49ab-984a-96b1c1512d0a",
   "metadata": {},
   "outputs": [
    {
     "data": {
      "text/plain": [
       "3-element Vector{Int64}:\n",
       " 1\n",
       " 2\n",
       " 3"
      ]
     },
     "execution_count": 20,
     "metadata": {},
     "output_type": "execute_result"
    }
   ],
   "source": [
    "v"
   ]
  },
  {
   "cell_type": "markdown",
   "id": "3d0c8ed7-7323-4cf4-bdb5-ca1700b7a64a",
   "metadata": {},
   "source": [
    "### Hàm bậc cao"
   ]
  },
  {
   "cell_type": "code",
   "execution_count": 21,
   "id": "b680d65a-abe7-4d4a-82f7-3d349110e787",
   "metadata": {},
   "outputs": [
    {
     "data": {
      "text/plain": [
       "3-element Vector{Int64}:\n",
       " 1\n",
       " 4\n",
       " 9"
      ]
     },
     "execution_count": 21,
     "metadata": {},
     "output_type": "execute_result"
    }
   ],
   "source": [
    "map(x -> x^2, [1, 2, 3])"
   ]
  },
  {
   "cell_type": "code",
   "execution_count": 22,
   "id": "f5d9b46e-da03-4c0a-aeb2-080aad670bba",
   "metadata": {},
   "outputs": [
    {
     "data": {
      "text/plain": [
       "9"
      ]
     },
     "execution_count": 22,
     "metadata": {},
     "output_type": "execute_result"
    }
   ],
   "source": [
    "binhphuong(3)"
   ]
  },
  {
   "cell_type": "code",
   "execution_count": 23,
   "id": "8a558ae8-ec5e-4fd9-8da0-f689dd58eff6",
   "metadata": {},
   "outputs": [
    {
     "data": {
      "text/plain": [
       "3-element Vector{Int64}:\n",
       " 1\n",
       " 4\n",
       " 9"
      ]
     },
     "execution_count": 23,
     "metadata": {},
     "output_type": "execute_result"
    }
   ],
   "source": [
    "broadcast(binhphuong, [1,2,3])"
   ]
  },
  {
   "cell_type": "code",
   "execution_count": 24,
   "id": "ea4779df-80a2-4a07-a044-d338e5f463f2",
   "metadata": {},
   "outputs": [
    {
     "data": {
      "text/plain": [
       "3-element Vector{Int64}:\n",
       " 1\n",
       " 4\n",
       " 9"
      ]
     },
     "execution_count": 24,
     "metadata": {},
     "output_type": "execute_result"
    }
   ],
   "source": [
    "binhphuong.([1, 2, 3])"
   ]
  },
  {
   "cell_type": "code",
   "execution_count": 25,
   "id": "c73a9b09-ddda-40e9-8330-f39b70cea64d",
   "metadata": {},
   "outputs": [
    {
     "data": {
      "text/plain": [
       "3×3 Matrix{Int64}:\n",
       " 1  2  3\n",
       " 4  5  6\n",
       " 7  8  9"
      ]
     },
     "execution_count": 25,
     "metadata": {},
     "output_type": "execute_result"
    }
   ],
   "source": [
    "A = [i + 3 * j for j in 0:2, i in 1:3]"
   ]
  },
  {
   "cell_type": "code",
   "execution_count": 26,
   "id": "3b4c18f8-3a14-44d3-b4f4-9d84fd34dce9",
   "metadata": {},
   "outputs": [
    {
     "data": {
      "text/plain": [
       "3×3 Matrix{Int64}:\n",
       "  1   4   9\n",
       " 16  25  36\n",
       " 49  64  81"
      ]
     },
     "execution_count": 26,
     "metadata": {},
     "output_type": "execute_result"
    }
   ],
   "source": [
    "binhphuong.(A)"
   ]
  },
  {
   "cell_type": "code",
   "execution_count": 27,
   "id": "4c790ec5-ce59-429f-ab28-576748916546",
   "metadata": {},
   "outputs": [
    {
     "data": {
      "text/plain": [
       "3×3 Matrix{Int64}:\n",
       "  30   36   42\n",
       "  66   81   96\n",
       " 102  126  150"
      ]
     },
     "execution_count": 27,
     "metadata": {},
     "output_type": "execute_result"
    }
   ],
   "source": [
    "binhphuong(A)"
   ]
  },
  {
   "cell_type": "code",
   "execution_count": null,
   "id": "9590b385-b763-4665-8562-d0802f686182",
   "metadata": {},
   "outputs": [],
   "source": []
  }
 ],
 "metadata": {
  "kernelspec": {
   "display_name": "Julia 1.11.6",
   "language": "julia",
   "name": "julia-1.11"
  },
  "language_info": {
   "file_extension": ".jl",
   "mimetype": "application/julia",
   "name": "julia",
   "version": "1.11.6"
  }
 },
 "nbformat": 4,
 "nbformat_minor": 5
}
