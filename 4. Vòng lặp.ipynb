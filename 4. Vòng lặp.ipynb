{
 "cells": [
  {
   "cell_type": "markdown",
   "id": "dfbd9eb4-b965-4cdd-83a5-4a3a1dfb0805",
   "metadata": {},
   "source": [
    "### Vòng lặp while"
   ]
  },
  {
   "cell_type": "code",
   "execution_count": 1,
   "id": "93cf3ea3-3834-49f8-aa27-2a49bf8fea69",
   "metadata": {},
   "outputs": [
    {
     "name": "stdout",
     "output_type": "stream",
     "text": [
      "Lần lặp thứ 1\n",
      "Lần lặp thứ 2\n",
      "Lần lặp thứ 3\n",
      "Lần lặp thứ 4\n",
      "Lần lặp thứ 5\n"
     ]
    }
   ],
   "source": [
    "n = 0\n",
    "while n < 5\n",
    "    n += 1\n",
    "    println(\"Lần lặp thứ $n\")\n",
    "end"
   ]
  },
  {
   "cell_type": "code",
   "execution_count": 3,
   "id": "0d09486b-d0a9-494d-a1e9-1a75a8c4b6c0",
   "metadata": {},
   "outputs": [
    {
     "name": "stdout",
     "output_type": "stream",
     "text": [
      "Xin chào An ! \n",
      "Xin chào Bình ! \n",
      "Xin chào Chi ! \n",
      "Xin chào Dương ! \n"
     ]
    }
   ],
   "source": [
    "banbe = [\"An\", \"Bình\", \"Chi\", \"Dương\"]\n",
    "i = 1\n",
    "while i <= length(banbe)\n",
    "    println(\"Xin chào $(banbe[i]) ! \")\n",
    "    i += 1\n",
    "end"
   ]
  },
  {
   "cell_type": "markdown",
   "id": "220a8b6d-bcc7-4264-9e02-d396ec8e6cae",
   "metadata": {},
   "source": [
    "### Vòng lặp for"
   ]
  },
  {
   "cell_type": "code",
   "execution_count": 4,
   "id": "f0a7b7e8-7972-4c90-9da8-a6f02444ecbd",
   "metadata": {},
   "outputs": [
    {
     "name": "stdout",
     "output_type": "stream",
     "text": [
      "Số hiện tại: 1\n",
      "Số hiện tại: 2\n",
      "Số hiện tại: 3\n",
      "Số hiện tại: 4\n",
      "Số hiện tại: 5\n"
     ]
    }
   ],
   "source": [
    "for i in 1:5\n",
    "    println(\"Số hiện tại: $i\")\n",
    "end"
   ]
  },
  {
   "cell_type": "code",
   "execution_count": 5,
   "id": "e1f94cb2-a499-4bf9-8d69-f4d2e4694879",
   "metadata": {},
   "outputs": [
    {
     "name": "stdout",
     "output_type": "stream",
     "text": [
      "Xin chào An ! \n",
      "Xin chào Bình ! \n",
      "Xin chào Chi ! \n",
      "Xin chào Dương ! \n"
     ]
    }
   ],
   "source": [
    "for ten in banbe\n",
    "    println(\"Xin chào $ten ! \")\n",
    "end"
   ]
  },
  {
   "cell_type": "code",
   "execution_count": 6,
   "id": "1caeefe3-7dfb-4e18-884e-221326c2badd",
   "metadata": {},
   "outputs": [
    {
     "data": {
      "text/plain": [
       "5×5 Matrix{Int64}:\n",
       " 0  0  0  0  0\n",
       " 0  0  0  0  0\n",
       " 0  0  0  0  0\n",
       " 0  0  0  0  0\n",
       " 0  0  0  0  0"
      ]
     },
     "execution_count": 6,
     "metadata": {},
     "output_type": "execute_result"
    }
   ],
   "source": [
    "m, n = 5, 5\n",
    "A = fill(0, (m, n))"
   ]
  },
  {
   "cell_type": "code",
   "execution_count": 7,
   "id": "6fd1da73-ca9a-4b69-97ce-45143eecd020",
   "metadata": {},
   "outputs": [
    {
     "name": "stdout",
     "output_type": "stream",
     "text": [
      "[2 3 4 5 6; 3 4 5 6 7; 4 5 6 7 8; 5 6 7 8 9; 6 7 8 9 10]\n"
     ]
    }
   ],
   "source": [
    "for j in 1:n\n",
    "    for i in 1:m\n",
    "        A[i, j] = i + j\n",
    "    end\n",
    "end\n",
    "println(A)"
   ]
  },
  {
   "cell_type": "code",
   "execution_count": 8,
   "id": "d0768d44-6336-4504-95d0-f985f485b285",
   "metadata": {},
   "outputs": [
    {
     "data": {
      "text/plain": [
       "5×5 Matrix{Int64}:\n",
       " 2  3  4  5   6\n",
       " 3  4  5  6   7\n",
       " 4  5  6  7   8\n",
       " 5  6  7  8   9\n",
       " 6  7  8  9  10"
      ]
     },
     "execution_count": 8,
     "metadata": {},
     "output_type": "execute_result"
    }
   ],
   "source": [
    "A"
   ]
  },
  {
   "cell_type": "code",
   "execution_count": 9,
   "id": "4f9a64b6-a225-42ff-bef5-af08e38c266e",
   "metadata": {},
   "outputs": [
    {
     "data": {
      "text/plain": [
       "5×5 Matrix{Int64}:\n",
       " 0  0  0  0  0\n",
       " 0  0  0  0  0\n",
       " 0  0  0  0  0\n",
       " 0  0  0  0  0\n",
       " 0  0  0  0  0"
      ]
     },
     "execution_count": 9,
     "metadata": {},
     "output_type": "execute_result"
    }
   ],
   "source": [
    "B = fill(0, (m, n))"
   ]
  },
  {
   "cell_type": "code",
   "execution_count": 10,
   "id": "e5130cce-eaf4-4ff8-8157-aebd0ba549f9",
   "metadata": {},
   "outputs": [
    {
     "data": {
      "text/plain": [
       "5×5 Matrix{Int64}:\n",
       " 2  3  4  5   6\n",
       " 3  4  5  6   7\n",
       " 4  5  6  7   8\n",
       " 5  6  7  8   9\n",
       " 6  7  8  9  10"
      ]
     },
     "execution_count": 10,
     "metadata": {},
     "output_type": "execute_result"
    }
   ],
   "source": [
    "for j in 1:n, i in 1:m\n",
    "    B[i, j] = i + j\n",
    "end\n",
    "B"
   ]
  },
  {
   "cell_type": "code",
   "execution_count": 11,
   "id": "d97c8de2-a9ab-4967-8d9f-c5e83ba35f66",
   "metadata": {},
   "outputs": [
    {
     "data": {
      "text/plain": [
       "5×5 Matrix{Int64}:\n",
       " 0  0  0  0  0\n",
       " 0  0  0  0  0\n",
       " 0  0  0  0  0\n",
       " 0  0  0  0  0\n",
       " 0  0  0  0  0"
      ]
     },
     "execution_count": 11,
     "metadata": {},
     "output_type": "execute_result"
    }
   ],
   "source": [
    "C = fill(0, (m, n))"
   ]
  },
  {
   "cell_type": "code",
   "execution_count": 12,
   "id": "0f9e1e16-3a08-4233-ba37-b7e29f999e07",
   "metadata": {},
   "outputs": [
    {
     "data": {
      "text/plain": [
       "5×5 Matrix{Int64}:\n",
       " 2  3  4  5   6\n",
       " 3  4  5  6   7\n",
       " 4  5  6  7   8\n",
       " 5  6  7  8   9\n",
       " 6  7  8  9  10"
      ]
     },
     "execution_count": 12,
     "metadata": {},
     "output_type": "execute_result"
    }
   ],
   "source": [
    "C = [i + j for i in 1:m, j in 1:n]\n",
    "C"
   ]
  },
  {
   "cell_type": "code",
   "execution_count": 13,
   "id": "9477e23f-ab3e-46b1-a122-6c6ca3d8e5ca",
   "metadata": {},
   "outputs": [
    {
     "data": {
      "text/plain": [
       "5×5 Matrix{Int64}:\n",
       " 2  3  4  5   6\n",
       " 3  4  5  6   7\n",
       " 4  5  6  7   8\n",
       " 5  6  7  8   9\n",
       " 6  7  8  9  10"
      ]
     },
     "execution_count": 13,
     "metadata": {},
     "output_type": "execute_result"
    }
   ],
   "source": [
    "D = [i + j for i in 1:m, j in 1:n]\n",
    "D"
   ]
  },
  {
   "cell_type": "code",
   "execution_count": null,
   "id": "c2ba0441-d1de-47b2-8496-68425fe868ee",
   "metadata": {},
   "outputs": [],
   "source": []
  }
 ],
 "metadata": {
  "kernelspec": {
   "display_name": "Julia 1.11.6",
   "language": "julia",
   "name": "julia-1.11"
  },
  "language_info": {
   "file_extension": ".jl",
   "mimetype": "application/julia",
   "name": "julia",
   "version": "1.11.6"
  }
 },
 "nbformat": 4,
 "nbformat_minor": 5
}
