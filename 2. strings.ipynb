{
 "cells": [
  {
   "cell_type": "markdown",
   "id": "e2066950-9e27-41a7-900e-7e90c1fdc7a3",
   "metadata": {},
   "source": [
    "### Khai bái chuỗi"
   ]
  },
  {
   "cell_type": "code",
   "execution_count": 1,
   "id": "7f766e30-eea5-494b-9a78-0c6411a9c5ca",
   "metadata": {},
   "outputs": [
    {
     "data": {
      "text/plain": [
       "\"Chuỗi này có thể chứa \\\"dấu nháy kép\\\" mà không bị lỗi !!!!!\""
      ]
     },
     "execution_count": 1,
     "metadata": {},
     "output_type": "execute_result"
    }
   ],
   "source": [
    "s1 = \"Tôi đang học Julia\"\n",
    "s2 = \"\"\"Chuỗi này có thể chứa \"dấu nháy kép\" mà không bị lỗi !!!!!\"\"\""
   ]
  },
  {
   "cell_type": "code",
   "execution_count": 2,
   "id": "2c280aa6-8f11-45bd-b4f2-0253fe19b56f",
   "metadata": {},
   "outputs": [
    {
     "ename": "LoadError",
     "evalue": "ParseError:\n\u001b[90m# Error @ \u001b[0;0m\u001b]8;;file://C:/Users/trong/Documents/julia/In[2]#1:33\u001b\\\u001b[90mIn[2]:1:33\u001b[0;0m\u001b]8;;\u001b\\\nsai = \"Câu này có dấu nháy kép \"\u001b[48;2;120;70;70m bên trong \"\u001b[0;0m\n\u001b[90m#                               └──────────┘ ── \u001b[0;0m\u001b[91mextra tokens after end of expression\u001b[0;0m",
     "output_type": "error",
     "traceback": [
      "ParseError:\n\u001b[90m# Error @ \u001b[0;0m\u001b]8;;file://C:/Users/trong/Documents/julia/In[2]#1:33\u001b\\\u001b[90mIn[2]:1:33\u001b[0;0m\u001b]8;;\u001b\\\nsai = \"Câu này có dấu nháy kép \"\u001b[48;2;120;70;70m bên trong \"\u001b[0;0m\n\u001b[90m#                               └──────────┘ ── \u001b[0;0m\u001b[91mextra tokens after end of expression\u001b[0;0m",
      "",
      "Stacktrace:",
      " [1] top-level scope",
      "\u001b[90m   @\u001b[39m \u001b[90m\u001b[4mIn[2]:1\u001b[24m\u001b[39m"
     ]
    }
   ],
   "source": [
    "sai = \"Câu này có dấu nháy kép \" bên trong \""
   ]
  },
  {
   "cell_type": "code",
   "execution_count": 3,
   "id": "46535669-c233-4d19-b8b5-9b6554a405a4",
   "metadata": {},
   "outputs": [
    {
     "data": {
      "text/plain": [
       "Char"
      ]
     },
     "execution_count": 3,
     "metadata": {},
     "output_type": "execute_result"
    }
   ],
   "source": [
    "typeof('a')"
   ]
  },
  {
   "cell_type": "code",
   "execution_count": 4,
   "id": "a9aa354a-fb88-4246-b212-a3680006e9d9",
   "metadata": {},
   "outputs": [
    {
     "data": {
      "text/plain": [
       "String"
      ]
     },
     "execution_count": 4,
     "metadata": {},
     "output_type": "execute_result"
    }
   ],
   "source": [
    "typeof(\"a\")"
   ]
  },
  {
   "cell_type": "code",
   "execution_count": 5,
   "id": "bc56a25d-f0c9-4152-a087-315f51d5534c",
   "metadata": {},
   "outputs": [
    {
     "ename": "LoadError",
     "evalue": "ParseError:\n\u001b[90m# Error @ \u001b[0;0m\u001b]8;;file://C:/Users/trong/Documents/julia/In[5]#1:2\u001b\\\u001b[90mIn[5]:1:2\u001b[0;0m\u001b]8;;\u001b\\\n'\u001b[48;2;120;70;70mabc\u001b[0;0m'\n\u001b[90m#└─┘ ── \u001b[0;0m\u001b[91mcharacter literal contains multiple characters\u001b[0;0m",
     "output_type": "error",
     "traceback": [
      "ParseError:\n\u001b[90m# Error @ \u001b[0;0m\u001b]8;;file://C:/Users/trong/Documents/julia/In[5]#1:2\u001b\\\u001b[90mIn[5]:1:2\u001b[0;0m\u001b]8;;\u001b\\\n'\u001b[48;2;120;70;70mabc\u001b[0;0m'\n\u001b[90m#└─┘ ── \u001b[0;0m\u001b[91mcharacter literal contains multiple characters\u001b[0;0m",
      "",
      "Stacktrace:",
      " [1] top-level scope",
      "\u001b[90m   @\u001b[39m \u001b[90m\u001b[4mIn[5]:1\u001b[24m\u001b[39m"
     ]
    }
   ],
   "source": [
    "'abc'"
   ]
  },
  {
   "cell_type": "markdown",
   "id": "12670b3e-6ed7-4401-bdc9-d7261f74df3e",
   "metadata": {},
   "source": [
    "### Nội suy chuỗi"
   ]
  },
  {
   "cell_type": "code",
   "execution_count": 6,
   "id": "4f20df02-7031-420c-8e8a-aa2f68619ea7",
   "metadata": {},
   "outputs": [
    {
     "data": {
      "text/plain": [
       "11"
      ]
     },
     "execution_count": 6,
     "metadata": {},
     "output_type": "execute_result"
    }
   ],
   "source": [
    "ten = \"Nghĩa\"\n",
    "so_chan = 10\n",
    "so_le = 11"
   ]
  },
  {
   "cell_type": "code",
   "execution_count": 7,
   "id": "b4677c98-bad9-42a2-a078-8e2d1c9e7b84",
   "metadata": {},
   "outputs": [
    {
     "name": "stdout",
     "output_type": "stream",
     "text": [
      "Xin chào, tôi là Nghĩa.\n"
     ]
    }
   ],
   "source": [
    "println(\"Xin chào, tôi là $ten.\")"
   ]
  },
  {
   "cell_type": "code",
   "execution_count": 8,
   "id": "90e66bdb-c0cf-44ce-bd2a-8d6bb69efbf5",
   "metadata": {},
   "outputs": [
    {
     "name": "stdout",
     "output_type": "stream",
     "text": [
      "Số lẻ: 11 và số chẵn: 10.\n"
     ]
    }
   ],
   "source": [
    "println(\"Số lẻ: $so_le và số chẵn: $so_chan.\")"
   ]
  },
  {
   "cell_type": "code",
   "execution_count": 9,
   "id": "1e9e2dac-d3a0-45ff-ad32-f318e9e12c67",
   "metadata": {},
   "outputs": [
    {
     "name": "stdout",
     "output_type": "stream",
     "text": [
      "Tổng 2 số: 21\n"
     ]
    }
   ],
   "source": [
    "println(\"Tổng 2 số: $(so_chan + so_le)\")"
   ]
  },
  {
   "cell_type": "markdown",
   "id": "5392e259-4145-4ce3-bb82-7db2462ef4da",
   "metadata": {},
   "source": [
    "### Nối chuỗi"
   ]
  },
  {
   "cell_type": "code",
   "execution_count": 10,
   "id": "6bf0a967-68a0-43cc-9485-abb8e03fbb5a",
   "metadata": {},
   "outputs": [
    {
     "data": {
      "text/plain": [
       "\"bạn đang học Julia!\""
      ]
     },
     "execution_count": 10,
     "metadata": {},
     "output_type": "execute_result"
    }
   ],
   "source": [
    "s1 = \"Xin chào, \"\n",
    "s2 = \"bạn đang học Julia!\""
   ]
  },
  {
   "cell_type": "code",
   "execution_count": 11,
   "id": "9dcc6c9c-91a2-440c-bf15-b63a3f956162",
   "metadata": {},
   "outputs": [
    {
     "data": {
      "text/plain": [
       "\"Xin chào, bạn đang học Julia!\""
      ]
     },
     "execution_count": 11,
     "metadata": {},
     "output_type": "execute_result"
    }
   ],
   "source": [
    "string(s1, s2)"
   ]
  },
  {
   "cell_type": "code",
   "execution_count": 12,
   "id": "8a7a2e1d-cec6-4d2b-961a-91bf2722f26c",
   "metadata": {},
   "outputs": [
    {
     "data": {
      "text/plain": [
       "\"Lớp học có 50 sinh viên.\""
      ]
     },
     "execution_count": 12,
     "metadata": {},
     "output_type": "execute_result"
    }
   ],
   "source": [
    "so_sv = 50\n",
    "string(\"Lớp học có \", so_sv, \" sinh viên.\")"
   ]
  },
  {
   "cell_type": "code",
   "execution_count": 13,
   "id": "4a861398-7aa4-41ae-ba8b-e6eb625f4d20",
   "metadata": {},
   "outputs": [
    {
     "data": {
      "text/plain": [
       "\"Xin chào, bạn đang học Julia!\""
      ]
     },
     "execution_count": 13,
     "metadata": {},
     "output_type": "execute_result"
    }
   ],
   "source": [
    "s1 * s2"
   ]
  },
  {
   "cell_type": "code",
   "execution_count": null,
   "id": "48c96417-116b-4abb-a336-e86f664430b8",
   "metadata": {},
   "outputs": [],
   "source": []
  }
 ],
 "metadata": {
  "kernelspec": {
   "display_name": "Julia 1.11.6",
   "language": "julia",
   "name": "julia-1.11"
  },
  "language_info": {
   "file_extension": ".jl",
   "mimetype": "application/julia",
   "name": "julia",
   "version": "1.11.6"
  }
 },
 "nbformat": 4,
 "nbformat_minor": 5
}
