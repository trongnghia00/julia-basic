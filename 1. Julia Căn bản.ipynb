{
 "cells": [
  {
   "cell_type": "markdown",
   "id": "42545ecc-4311-4264-bcc2-c6f96d3e1fc2",
   "metadata": {},
   "source": [
    "### In ra màn hình"
   ]
  },
  {
   "cell_type": "code",
   "execution_count": 1,
   "id": "07094913-1c06-462d-9102-057d37e65c8a",
   "metadata": {},
   "outputs": [
    {
     "name": "stdout",
     "output_type": "stream",
     "text": [
      "Xin chào ! Julia đây !\n"
     ]
    }
   ],
   "source": [
    "println(\"Xin chào ! Julia đây !\")"
   ]
  },
  {
   "cell_type": "markdown",
   "id": "d51dc5b5-6fca-4ba6-b28e-0e9d098f077a",
   "metadata": {},
   "source": [
    "### Khai báo biến"
   ]
  },
  {
   "cell_type": "code",
   "execution_count": 2,
   "id": "2327ab04-484d-46f3-ad51-f1277e814ab1",
   "metadata": {},
   "outputs": [
    {
     "data": {
      "text/plain": [
       "70.5"
      ]
     },
     "execution_count": 2,
     "metadata": {},
     "output_type": "execute_result"
    }
   ],
   "source": [
    "ten = \"Nghĩa\"\n",
    "tuoi = 20\n",
    "can_nang = 70.5"
   ]
  },
  {
   "cell_type": "code",
   "execution_count": 3,
   "id": "ae90e8e9-01d0-448d-a8f5-5c39c704e342",
   "metadata": {},
   "outputs": [
    {
     "data": {
      "text/plain": [
       "String"
      ]
     },
     "execution_count": 3,
     "metadata": {},
     "output_type": "execute_result"
    }
   ],
   "source": [
    "typeof(ten)"
   ]
  },
  {
   "cell_type": "code",
   "execution_count": 4,
   "id": "b85e094c-00d2-496f-824f-51bd09a960c2",
   "metadata": {},
   "outputs": [
    {
     "data": {
      "text/plain": [
       "50"
      ]
     },
     "execution_count": 4,
     "metadata": {},
     "output_type": "execute_result"
    }
   ],
   "source": [
    "🍔 = 50"
   ]
  },
  {
   "cell_type": "code",
   "execution_count": 5,
   "id": "5c890806-75c5-4d86-ab56-318e231685a5",
   "metadata": {},
   "outputs": [
    {
     "data": {
      "text/plain": [
       "30"
      ]
     },
     "execution_count": 5,
     "metadata": {},
     "output_type": "execute_result"
    }
   ],
   "source": [
    "🍗 = 30"
   ]
  },
  {
   "cell_type": "code",
   "execution_count": 6,
   "id": "359121d3-84fb-456e-a579-a85845753bca",
   "metadata": {},
   "outputs": [
    {
     "data": {
      "text/plain": [
       "80"
      ]
     },
     "execution_count": 6,
     "metadata": {},
     "output_type": "execute_result"
    }
   ],
   "source": [
    "suat_an = 🍗 + 🍔"
   ]
  },
  {
   "cell_type": "code",
   "execution_count": 7,
   "id": "f4ae651e-e1c3-4c6c-910a-cf04c8a10dd6",
   "metadata": {},
   "outputs": [
    {
     "name": "stdout",
     "output_type": "stream",
     "text": [
      "80"
     ]
    }
   ],
   "source": [
    "print(suat_an)"
   ]
  },
  {
   "cell_type": "markdown",
   "id": "3f0b2cad-9c7c-4c4d-81b0-a3b2f281e5ac",
   "metadata": {},
   "source": [
    "### Comment"
   ]
  },
  {
   "cell_type": "code",
   "execution_count": 8,
   "id": "926bfee3-2bab-490c-82c9-7ec8196e2749",
   "metadata": {},
   "outputs": [],
   "source": [
    "# Ghi chú 1 dòng"
   ]
  },
  {
   "cell_type": "code",
   "execution_count": 9,
   "id": "1b8e6003-c2c1-45a8-b4e4-8907d6fee88a",
   "metadata": {},
   "outputs": [
    {
     "data": {
      "text/plain": [
       "10"
      ]
     },
     "execution_count": 9,
     "metadata": {},
     "output_type": "execute_result"
    }
   ],
   "source": [
    "#=\n",
    "Ghi chú nhiều dòng\n",
    "Khi chúng ta cần giải thích kỹ hơn\n",
    "=#\n",
    "a = 10"
   ]
  },
  {
   "cell_type": "markdown",
   "id": "99fb6538-b990-4d95-86ff-8e503d80384f",
   "metadata": {},
   "source": [
    "### Toán học cơ bản"
   ]
  },
  {
   "cell_type": "code",
   "execution_count": 10,
   "id": "e1c90740-7a38-41ec-b8c5-dfc4b1e5bdd4",
   "metadata": {},
   "outputs": [
    {
     "data": {
      "text/plain": [
       "8"
      ]
     },
     "execution_count": 10,
     "metadata": {},
     "output_type": "execute_result"
    }
   ],
   "source": [
    "tong = 5+3"
   ]
  },
  {
   "cell_type": "code",
   "execution_count": 11,
   "id": "83805067-1e5a-4a44-abbe-917a1a594ffa",
   "metadata": {},
   "outputs": [
    {
     "data": {
      "text/plain": [
       "8"
      ]
     },
     "execution_count": 11,
     "metadata": {},
     "output_type": "execute_result"
    }
   ],
   "source": [
    "hieu = 10 - 2"
   ]
  },
  {
   "cell_type": "code",
   "execution_count": 12,
   "id": "9497ff97-5c4e-40d1-9743-863bc8392c69",
   "metadata": {},
   "outputs": [
    {
     "data": {
      "text/plain": [
       "42"
      ]
     },
     "execution_count": 12,
     "metadata": {},
     "output_type": "execute_result"
    }
   ],
   "source": [
    "tich = 6*7"
   ]
  },
  {
   "cell_type": "code",
   "execution_count": 13,
   "id": "686f4f35-32cc-4372-b7ec-7efd3e81a106",
   "metadata": {},
   "outputs": [
    {
     "data": {
      "text/plain": [
       "4.0"
      ]
     },
     "execution_count": 13,
     "metadata": {},
     "output_type": "execute_result"
    }
   ],
   "source": [
    "thuong = 20/5"
   ]
  },
  {
   "cell_type": "code",
   "execution_count": 14,
   "id": "986ca0d4-753c-4840-a081-04f7a7478a91",
   "metadata": {},
   "outputs": [
    {
     "data": {
      "text/plain": [
       "16"
      ]
     },
     "execution_count": 14,
     "metadata": {},
     "output_type": "execute_result"
    }
   ],
   "source": [
    "mu = 2 ^ 4"
   ]
  },
  {
   "cell_type": "code",
   "execution_count": 15,
   "id": "3251dfdd-5a58-40fa-8506-477eb418169f",
   "metadata": {},
   "outputs": [
    {
     "data": {
      "text/plain": [
       "3"
      ]
     },
     "execution_count": 15,
     "metadata": {},
     "output_type": "execute_result"
    }
   ],
   "source": [
    "chia_du = 11 % 4"
   ]
  },
  {
   "cell_type": "markdown",
   "id": "ba9d607d-44eb-46d3-a9fa-5463dbc52c88",
   "metadata": {},
   "source": [
    "### Chuyển đổi kiểu dữ liệu"
   ]
  },
  {
   "cell_type": "code",
   "execution_count": 16,
   "id": "1e423d40-16d0-42d5-b598-14b78ac60509",
   "metadata": {},
   "outputs": [
    {
     "data": {
      "text/plain": [
       "365"
      ]
     },
     "execution_count": 16,
     "metadata": {},
     "output_type": "execute_result"
    }
   ],
   "source": [
    "ngay = 365"
   ]
  },
  {
   "cell_type": "code",
   "execution_count": 17,
   "id": "4674effa-167c-4532-b7c7-a71335fcceb9",
   "metadata": {},
   "outputs": [
    {
     "data": {
      "text/plain": [
       "365.0"
      ]
     },
     "execution_count": 17,
     "metadata": {},
     "output_type": "execute_result"
    }
   ],
   "source": [
    "ngay_float = convert(Float64, ngay)"
   ]
  },
  {
   "cell_type": "code",
   "execution_count": 18,
   "id": "01c9fea8-79ba-4d69-ba94-29c362d53f79",
   "metadata": {},
   "outputs": [
    {
     "data": {
      "text/plain": [
       "123"
      ]
     },
     "execution_count": 18,
     "metadata": {},
     "output_type": "execute_result"
    }
   ],
   "source": [
    "parse(Int64, \"123\")"
   ]
  },
  {
   "cell_type": "code",
   "execution_count": 19,
   "id": "7f18a1c5-afd2-4534-a34f-640559cf0b37",
   "metadata": {},
   "outputs": [
    {
     "ename": "LoadError",
     "evalue": "MethodError: \u001b[0mCannot `convert` an object of type \u001b[92mString\u001b[39m\u001b[0m to an object of type \u001b[91mInt64\u001b[39m\nThe function `convert` exists, but no method is defined for this combination of argument types.\n\n\u001b[0mClosest candidates are:\n\u001b[0m  convert(::Type{T}, \u001b[91m::T\u001b[39m) where T<:Number\n\u001b[0m\u001b[90m   @\u001b[39m \u001b[90mBase\u001b[39m \u001b[90m\u001b[4mnumber.jl:6\u001b[24m\u001b[39m\n\u001b[0m  convert(::Type{T}, \u001b[91m::T\u001b[39m) where T\n\u001b[0m\u001b[90m   @\u001b[39m \u001b[90mBase\u001b[39m \u001b[90m\u001b[4mBase.jl:126\u001b[24m\u001b[39m\n\u001b[0m  convert(::Type{T}, \u001b[91m::Number\u001b[39m) where T<:Number\n\u001b[0m\u001b[90m   @\u001b[39m \u001b[90mBase\u001b[39m \u001b[90m\u001b[4mnumber.jl:7\u001b[24m\u001b[39m\n\u001b[0m  ...\n",
     "output_type": "error",
     "traceback": [
      "MethodError: \u001b[0mCannot `convert` an object of type \u001b[92mString\u001b[39m\u001b[0m to an object of type \u001b[91mInt64\u001b[39m\nThe function `convert` exists, but no method is defined for this combination of argument types.\n\n\u001b[0mClosest candidates are:\n\u001b[0m  convert(::Type{T}, \u001b[91m::T\u001b[39m) where T<:Number\n\u001b[0m\u001b[90m   @\u001b[39m \u001b[90mBase\u001b[39m \u001b[90m\u001b[4mnumber.jl:6\u001b[24m\u001b[39m\n\u001b[0m  convert(::Type{T}, \u001b[91m::T\u001b[39m) where T\n\u001b[0m\u001b[90m   @\u001b[39m \u001b[90mBase\u001b[39m \u001b[90m\u001b[4mBase.jl:126\u001b[24m\u001b[39m\n\u001b[0m  convert(::Type{T}, \u001b[91m::Number\u001b[39m) where T<:Number\n\u001b[0m\u001b[90m   @\u001b[39m \u001b[90mBase\u001b[39m \u001b[90m\u001b[4mnumber.jl:7\u001b[24m\u001b[39m\n\u001b[0m  ...\n",
      "",
      "Stacktrace:",
      " [1] top-level scope",
      "\u001b[90m   @\u001b[39m \u001b[90m\u001b[4mIn[19]:1\u001b[24m\u001b[39m"
     ]
    }
   ],
   "source": [
    "convert(Int64, \"123\")"
   ]
  },
  {
   "cell_type": "code",
   "execution_count": null,
   "id": "a7660c81-d845-44af-a533-c91e4f66a64c",
   "metadata": {},
   "outputs": [],
   "source": []
  }
 ],
 "metadata": {
  "kernelspec": {
   "display_name": "Julia 1.11.6",
   "language": "julia",
   "name": "julia-1.11"
  },
  "language_info": {
   "file_extension": ".jl",
   "mimetype": "application/julia",
   "name": "julia",
   "version": "1.11.6"
  }
 },
 "nbformat": 4,
 "nbformat_minor": 5
}
