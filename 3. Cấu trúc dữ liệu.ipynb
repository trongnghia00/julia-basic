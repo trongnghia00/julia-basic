{
 "cells": [
  {
   "cell_type": "markdown",
   "id": "3aceffed-c937-4e06-8b9f-2d909b1f30c6",
   "metadata": {},
   "source": [
    "### Tuple"
   ]
  },
  {
   "cell_type": "code",
   "execution_count": 1,
   "id": "7989472e-da97-4f2e-8c97-9011350ede04",
   "metadata": {},
   "outputs": [
    {
     "data": {
      "text/plain": [
       "(\"chim cánh cụt\", \"mèo\", \"chó con\")"
      ]
     },
     "execution_count": 1,
     "metadata": {},
     "output_type": "execute_result"
    }
   ],
   "source": [
    "dong_vat_yeu_thich = (\"chim cánh cụt\", \"mèo\", \"chó con\")"
   ]
  },
  {
   "cell_type": "code",
   "execution_count": 2,
   "id": "21d959bb-e869-46d7-926f-91778a2d5fcf",
   "metadata": {},
   "outputs": [
    {
     "name": "stdout",
     "output_type": "stream",
     "text": [
      "chim cánh cụt\n"
     ]
    }
   ],
   "source": [
    "println(dong_vat_yeu_thich[1])"
   ]
  },
  {
   "cell_type": "code",
   "execution_count": 3,
   "id": "4c9d38f5-0029-4b2e-b86e-4f1edcc4b0b2",
   "metadata": {},
   "outputs": [
    {
     "ename": "LoadError",
     "evalue": "MethodError: no method matching setindex!(::Tuple{String, String, String}, ::String, ::Int64)\nThe function `setindex!` exists, but no method is defined for this combination of argument types.",
     "output_type": "error",
     "traceback": [
      "MethodError: no method matching setindex!(::Tuple{String, String, String}, ::String, ::Int64)\nThe function `setindex!` exists, but no method is defined for this combination of argument types.",
      "",
      "Stacktrace:",
      " [1] top-level scope",
      "\u001b[90m   @\u001b[39m \u001b[90m\u001b[4mIn[3]:1\u001b[24m\u001b[39m"
     ]
    }
   ],
   "source": [
    "dong_vat_yeu_thich[1] = \"rái cá\""
   ]
  },
  {
   "cell_type": "markdown",
   "id": "f22e8db3-2b80-4ae2-ab2b-2a15567113ce",
   "metadata": {},
   "source": [
    "### Named tuple"
   ]
  },
  {
   "cell_type": "code",
   "execution_count": 4,
   "id": "1598aeee-e5ed-480f-96fd-82e95e0522ab",
   "metadata": {},
   "outputs": [
    {
     "data": {
      "text/plain": [
       "(am_nhac = \"Bolero\", the_thao = \"Pickleball\", mon_an = \"Bún bò\")"
      ]
     },
     "execution_count": 4,
     "metadata": {},
     "output_type": "execute_result"
    }
   ],
   "source": [
    "so_thich = (am_nhac = \"Bolero\", the_thao = \"Pickleball\", mon_an = \"Bún bò\")"
   ]
  },
  {
   "cell_type": "code",
   "execution_count": 5,
   "id": "f2f0cc85-777a-46d2-b500-dd33f99768ee",
   "metadata": {},
   "outputs": [
    {
     "name": "stdout",
     "output_type": "stream",
     "text": [
      "Bolero\n"
     ]
    }
   ],
   "source": [
    "println(so_thich.am_nhac)"
   ]
  },
  {
   "cell_type": "markdown",
   "id": "8c303129-dce0-49be-b146-af5c321a36ae",
   "metadata": {},
   "source": [
    "### Dictionary"
   ]
  },
  {
   "cell_type": "code",
   "execution_count": 6,
   "id": "26148c42-a51d-4111-8ee0-8ca3579805fe",
   "metadata": {},
   "outputs": [
    {
     "data": {
      "text/plain": [
       "Dict{String, String} with 2 entries:\n",
       "  \"Hùng\" => \"0987654321\"\n",
       "  \"Lan\"  => \"0903123456\""
      ]
     },
     "execution_count": 6,
     "metadata": {},
     "output_type": "execute_result"
    }
   ],
   "source": [
    "so_dt = Dict(\"Lan\" => \"0903123456\", \"Hùng\" => \"0987654321\")"
   ]
  },
  {
   "cell_type": "code",
   "execution_count": 7,
   "id": "2ebb39c7-09ba-488a-8943-4a24210f611d",
   "metadata": {},
   "outputs": [
    {
     "name": "stdout",
     "output_type": "stream",
     "text": [
      "0903123456\n"
     ]
    }
   ],
   "source": [
    "println(so_dt[\"Lan\"])"
   ]
  },
  {
   "cell_type": "code",
   "execution_count": 8,
   "id": "225eba29-01eb-43ae-bff4-05c5e4062f31",
   "metadata": {},
   "outputs": [
    {
     "data": {
      "text/plain": [
       "\"0912888999\""
      ]
     },
     "execution_count": 8,
     "metadata": {},
     "output_type": "execute_result"
    }
   ],
   "source": [
    "so_dt[\"Tú\"] = \"0912888999\""
   ]
  },
  {
   "cell_type": "code",
   "execution_count": 9,
   "id": "503a79d7-d21e-445e-a0da-c1e2433cb8a4",
   "metadata": {},
   "outputs": [
    {
     "data": {
      "text/plain": [
       "\"0912888999\""
      ]
     },
     "execution_count": 9,
     "metadata": {},
     "output_type": "execute_result"
    }
   ],
   "source": [
    "pop!(so_dt, \"Tú\")"
   ]
  },
  {
   "cell_type": "code",
   "execution_count": 10,
   "id": "4bf0aa92-8099-4756-9d36-8c817e0e8e6b",
   "metadata": {},
   "outputs": [
    {
     "data": {
      "text/plain": [
       "Dict{String, String} with 2 entries:\n",
       "  \"Hùng\" => \"0987654321\"\n",
       "  \"Lan\"  => \"0903123456\""
      ]
     },
     "execution_count": 10,
     "metadata": {},
     "output_type": "execute_result"
    }
   ],
   "source": [
    "so_dt"
   ]
  },
  {
   "cell_type": "markdown",
   "id": "767d176a-ee82-440b-b3b9-f7b4b615c47e",
   "metadata": {},
   "source": [
    "### Array"
   ]
  },
  {
   "cell_type": "code",
   "execution_count": 11,
   "id": "d936ea64-aac8-4213-a67b-96a88808e8ce",
   "metadata": {},
   "outputs": [
    {
     "data": {
      "text/plain": [
       "4-element Vector{String}:\n",
       " \"An\"\n",
       " \"Bình\"\n",
       " \"Cường\"\n",
       " \"Dương\""
      ]
     },
     "execution_count": 11,
     "metadata": {},
     "output_type": "execute_result"
    }
   ],
   "source": [
    "ban_be = [\"An\", \"Bình\", \"Cường\", \"Dương\"]"
   ]
  },
  {
   "cell_type": "code",
   "execution_count": 12,
   "id": "996d7d5e-5f70-4709-8f57-1aeef2c66036",
   "metadata": {},
   "outputs": [
    {
     "name": "stdout",
     "output_type": "stream",
     "text": [
      "Bình\n"
     ]
    }
   ],
   "source": [
    "println(ban_be[2])"
   ]
  },
  {
   "cell_type": "code",
   "execution_count": 13,
   "id": "6c47acf2-27ee-4867-843b-d412a4a9d8ce",
   "metadata": {},
   "outputs": [
    {
     "data": {
      "text/plain": [
       "\"Bảo\""
      ]
     },
     "execution_count": 13,
     "metadata": {},
     "output_type": "execute_result"
    }
   ],
   "source": [
    "ban_be[2] = \"Bảo\""
   ]
  },
  {
   "cell_type": "code",
   "execution_count": 14,
   "id": "a710e1e3-585b-405a-916f-0f1d03041905",
   "metadata": {},
   "outputs": [
    {
     "data": {
      "text/plain": [
       "4-element Vector{String}:\n",
       " \"An\"\n",
       " \"Bảo\"\n",
       " \"Cường\"\n",
       " \"Dương\""
      ]
     },
     "execution_count": 14,
     "metadata": {},
     "output_type": "execute_result"
    }
   ],
   "source": [
    "ban_be"
   ]
  },
  {
   "cell_type": "code",
   "execution_count": 15,
   "id": "490f16eb-3166-442b-b590-99d4d60b5d9f",
   "metadata": {},
   "outputs": [
    {
     "data": {
      "text/plain": [
       "5-element Vector{String}:\n",
       " \"An\"\n",
       " \"Bảo\"\n",
       " \"Cường\"\n",
       " \"Dương\"\n",
       " \"Hiếu\""
      ]
     },
     "execution_count": 15,
     "metadata": {},
     "output_type": "execute_result"
    }
   ],
   "source": [
    "push!(ban_be, \"Hiếu\")"
   ]
  },
  {
   "cell_type": "code",
   "execution_count": 16,
   "id": "c9ce9ad6-9c24-48f6-8ee4-0d4c638b082a",
   "metadata": {},
   "outputs": [
    {
     "data": {
      "text/plain": [
       "\"Hiếu\""
      ]
     },
     "execution_count": 16,
     "metadata": {},
     "output_type": "execute_result"
    }
   ],
   "source": [
    "pop!(ban_be)"
   ]
  },
  {
   "cell_type": "code",
   "execution_count": 17,
   "id": "6dc6fae4-4ee2-478f-9415-9b9731227c86",
   "metadata": {},
   "outputs": [
    {
     "data": {
      "text/plain": [
       "4-element Vector{String}:\n",
       " \"An\"\n",
       " \"Bảo\"\n",
       " \"Cường\"\n",
       " \"Dương\""
      ]
     },
     "execution_count": 17,
     "metadata": {},
     "output_type": "execute_result"
    }
   ],
   "source": [
    "ban_be"
   ]
  },
  {
   "cell_type": "code",
   "execution_count": 18,
   "id": "8d7bfc7f-7191-44ea-b28e-7266afe285b7",
   "metadata": {},
   "outputs": [
    {
     "data": {
      "text/plain": [
       "3×2 Matrix{Float64}:\n",
       " 0.651569  0.537122\n",
       " 0.504553  0.411363\n",
       " 0.464768  0.347383"
      ]
     },
     "execution_count": 18,
     "metadata": {},
     "output_type": "execute_result"
    }
   ],
   "source": [
    "matran = rand(3,2)"
   ]
  },
  {
   "cell_type": "code",
   "execution_count": 19,
   "id": "459e1050-2b17-466e-a347-54fdc18e90cd",
   "metadata": {},
   "outputs": [
    {
     "data": {
      "text/plain": [
       "2×2×2 Array{Float64, 3}:\n",
       "[:, :, 1] =\n",
       " 0.626271  0.225213\n",
       " 0.321991  0.727293\n",
       "\n",
       "[:, :, 2] =\n",
       " 0.159064  0.550462\n",
       " 0.937402  0.394452"
      ]
     },
     "execution_count": 19,
     "metadata": {},
     "output_type": "execute_result"
    }
   ],
   "source": [
    "matran3d = rand(2,2,2)"
   ]
  },
  {
   "cell_type": "markdown",
   "id": "5895407b-123f-4f7c-aadd-b33cb25026b3",
   "metadata": {},
   "source": [
    "### Lưu ý"
   ]
  },
  {
   "cell_type": "code",
   "execution_count": 20,
   "id": "2e620767-3d66-4715-9da7-fe428af25c13",
   "metadata": {},
   "outputs": [
    {
     "data": {
      "text/plain": [
       "3-element Vector{Int64}:\n",
       " 1\n",
       " 2\n",
       " 3"
      ]
     },
     "execution_count": 20,
     "metadata": {},
     "output_type": "execute_result"
    }
   ],
   "source": [
    "a = [1, 2, 3]"
   ]
  },
  {
   "cell_type": "code",
   "execution_count": 21,
   "id": "fdcf7b09-08d7-48fb-a331-f22da5aaa809",
   "metadata": {},
   "outputs": [
    {
     "data": {
      "text/plain": [
       "3-element Vector{Int64}:\n",
       " 1\n",
       " 2\n",
       " 3"
      ]
     },
     "execution_count": 21,
     "metadata": {},
     "output_type": "execute_result"
    }
   ],
   "source": [
    "b = a"
   ]
  },
  {
   "cell_type": "code",
   "execution_count": 22,
   "id": "721efad8-16f5-4952-97c2-3d43fbc0d9a3",
   "metadata": {},
   "outputs": [
    {
     "data": {
      "text/plain": [
       "999"
      ]
     },
     "execution_count": 22,
     "metadata": {},
     "output_type": "execute_result"
    }
   ],
   "source": [
    "b[1] = 999"
   ]
  },
  {
   "cell_type": "code",
   "execution_count": 23,
   "id": "9125cb1d-2836-4184-80d5-538cb3a1789e",
   "metadata": {},
   "outputs": [
    {
     "data": {
      "text/plain": [
       "3-element Vector{Int64}:\n",
       " 999\n",
       "   2\n",
       "   3"
      ]
     },
     "execution_count": 23,
     "metadata": {},
     "output_type": "execute_result"
    }
   ],
   "source": [
    "a"
   ]
  },
  {
   "cell_type": "code",
   "execution_count": 24,
   "id": "4c9c67af-c98d-444a-aa03-03284cce8909",
   "metadata": {},
   "outputs": [
    {
     "data": {
      "text/plain": [
       "3-element Vector{Int64}:\n",
       " 999\n",
       "   2\n",
       "   3"
      ]
     },
     "execution_count": 24,
     "metadata": {},
     "output_type": "execute_result"
    }
   ],
   "source": [
    "c = copy(a)"
   ]
  },
  {
   "cell_type": "code",
   "execution_count": 25,
   "id": "ee7c1493-d5ac-44c4-9cbd-736d90573128",
   "metadata": {},
   "outputs": [
    {
     "data": {
      "text/plain": [
       "123"
      ]
     },
     "execution_count": 25,
     "metadata": {},
     "output_type": "execute_result"
    }
   ],
   "source": [
    "c[1] = 123"
   ]
  },
  {
   "cell_type": "code",
   "execution_count": 26,
   "id": "cb683525-6957-4d18-a4fd-5c48f1d6b761",
   "metadata": {},
   "outputs": [
    {
     "data": {
      "text/plain": [
       "3-element Vector{Int64}:\n",
       " 123\n",
       "   2\n",
       "   3"
      ]
     },
     "execution_count": 26,
     "metadata": {},
     "output_type": "execute_result"
    }
   ],
   "source": [
    "c"
   ]
  },
  {
   "cell_type": "code",
   "execution_count": 27,
   "id": "8173d942-5bf6-4737-804c-da1391bb59bf",
   "metadata": {},
   "outputs": [
    {
     "data": {
      "text/plain": [
       "3-element Vector{Int64}:\n",
       " 999\n",
       "   2\n",
       "   3"
      ]
     },
     "execution_count": 27,
     "metadata": {},
     "output_type": "execute_result"
    }
   ],
   "source": [
    "a"
   ]
  },
  {
   "cell_type": "code",
   "execution_count": null,
   "id": "8abef267-4d50-49a7-bed3-ec981cdaa1d1",
   "metadata": {},
   "outputs": [],
   "source": []
  }
 ],
 "metadata": {
  "kernelspec": {
   "display_name": "Julia 1.11.6",
   "language": "julia",
   "name": "julia-1.11"
  },
  "language_info": {
   "file_extension": ".jl",
   "mimetype": "application/julia",
   "name": "julia",
   "version": "1.11.6"
  }
 },
 "nbformat": 4,
 "nbformat_minor": 5
}
